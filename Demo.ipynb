{
 "cells": [
  {
   "cell_type": "markdown",
   "id": "7ec7cd9c-50de-4f60-8887-907b137cab87",
   "metadata": {},
   "source": [
    "## MINI DEMO"
   ]
  },
  {
   "cell_type": "markdown",
   "id": "75332e70-d893-4a28-b025-49fa3497c918",
   "metadata": {},
   "source": [
    "Please Fill in information in the following cell. Leave unknown information as default"
   ]
  },
  {
   "cell_type": "code",
   "execution_count": 30,
   "id": "947c80da-fe3f-40a9-85bb-e6e9fde8aa42",
   "metadata": {},
   "outputs": [],
   "source": [
    "# features\n",
    "revenue=0\n",
    "production_companies=[]\n",
    "runtime=0\n",
    "#number of language in the film\n",
    "spoken_languages_count=0\n",
    "revenue=0\n",
    "\n",
    "#genres: Change the value to True if the movie has certain genres\n",
    "genres={'Drama':False, 'Comedy':False, 'Thriller':False, 'Romance':False,\n",
    "       'Action':False, 'Horror':False, 'Crime':False,    'Documentary':False,\n",
    "       'Adventure':False,  'Science Fiction':False,   'Family':False, \n",
    "        'Mystery':False,   'Fantasy':False,     'Animation':False,\n",
    "       'Foreign':False,   'Music':False,       'History':False, \n",
    "        'War':False,   'Western':False,    'TV Movie':False}\n"
   ]
  },
  {
   "cell_type": "markdown",
   "id": "48de131d-36e8-4221-a926-d1833fed8b79",
   "metadata": {
    "tags": []
   },
   "source": [
    "Run the following Cell to get the prediction result"
   ]
  },
  {
   "cell_type": "code",
   "execution_count": 39,
   "id": "5e023637-36cc-4871-aab2-c9724c1d17b4",
   "metadata": {},
   "outputs": [
    {
     "name": "stdout",
     "output_type": "stream",
     "text": [
      "5.12\n"
     ]
    }
   ],
   "source": [
    "import pandas as pd\n",
    "import numpy as np\n",
    "import pickle\n",
    "Features=([ 'revenue', 'popularity', 'production_companies_count',\n",
    "       'runtime', 'spoken_languages_count', 'vote_count', 'vote_count_log',\n",
    "       'revenue_log', 'vote_average', 'production_countries',\n",
    "       'only_produced_by_US', 'Drama', 'Comedy', 'Thriller', 'Romance',\n",
    "       'Action', 'Horror', 'Crime', 'Documentary', 'Adventure',\n",
    "       'Science Fiction', 'Family', 'Mystery', 'Fantasy', 'Animation',\n",
    "       'Foreign', 'Music', 'History', 'War', 'Western', 'TV Movie',\n",
    "       'Warner Bros.', 'Metro-Goldwyn-Mayer (MGM)', 'Paramount Pictures',\n",
    "       'Twentieth Century Fox Film Corporation', 'Universal Pictures',\n",
    "       'Columbia Pictures Corporation', 'Canal+', 'Columbia Pictures',\n",
    "       'RKO Radio Pictures', 'United Artists', 'New Line Cinema',\n",
    "       'Walt Disney Pictures', 'Touchstone Pictures', 'TriStar Pictures',\n",
    "       'Mosfilm', 'Miramax Films', 'France 2 Cinéma',\n",
    "       'Centre National de la Cinématographie (CNC)', 'Toho Company',\n",
    "       'BBC Films', 'Gaumont', 'StudioCanal', 'Relativity Media',\n",
    "       'British Broadcasting Corporation (BBC)', 'Walt Disney Productions',\n",
    "       'TF1 Films Production', 'Orion Pictures', 'Village Roadshow Pictures',\n",
    "       'Regency Enterprises', 'release_year', 'month', 'belong_to_collection'])\n",
    "popularity=45\n",
    "production_companies_count=len(production_companies)\n",
    "vote_count=120\n",
    "vote_count_log=np.log(120)\n",
    "revenue_log=np.log(revenue+1)\n",
    "\n",
    "genres_type=['Drama', 'Comedy', 'Thriller', 'Romance',\n",
    "       'Action', 'Horror', 'Crime', 'Documentary', 'Adventure',\n",
    "       'Science Fiction', 'Family', 'Mystery', 'Fantasy', 'Animation',\n",
    "       'Foreign', 'Music', 'History', 'War', 'Western', 'TV Movie']\n",
    "genres_code=list(genres.values())\n",
    "\n",
    "companies_type=['Warner Bros.', 'Metro-Goldwyn-Mayer (MGM)', 'Paramount Pictures',\n",
    "       'Twentieth Century Fox Film Corporation', 'Universal Pictures',\n",
    "       'Columbia Pictures Corporation', 'Canal+', 'Columbia Pictures',\n",
    "       'RKO Radio Pictures', 'United Artists', 'New Line Cinema',\n",
    "       'Walt Disney Pictures', 'Touchstone Pictures', 'TriStar Pictures',\n",
    "       'Mosfilm', 'Miramax Films', 'France 2 Cinéma',\n",
    "       'Centre National de la Cinématographie (CNC)', 'Toho Company',\n",
    "       'BBC Films', 'Gaumont', 'StudioCanal', 'Relativity Media',\n",
    "       'British Broadcasting Corporation (BBC)', 'Walt Disney Productions',\n",
    "       'TF1 Films Production', 'Orion Pictures', 'Village Roadshow Pictures',\n",
    "       'Regency Enterprises', 'release_year', 'month', 'belong_to_collection']\n",
    "companies_code=[]\n",
    "for c in companies_type:\n",
    "    if c in production_companies:\n",
    "        companies_code+=[1]\n",
    "    else:\n",
    "        companies_code+=[0]\n",
    "#index=Features\n",
    "input_df=pd.DataFrame([revenue, popularity, production_companies_count,\n",
    "       runtime, spoken_languages_count, vote_count, vote_count_log,\n",
    "       revenue_log]+genres_code+companies_code).T#.iloc[0]\n",
    "X=input_df.iloc[0]\n",
    "model= pickle.load(open('xgboostmodel.sav', 'rb'))\n",
    "print(round(model.predict(X),2))"
   ]
  },
  {
   "cell_type": "code",
   "execution_count": null,
   "id": "aa7b9501-3a98-4e15-a63b-b776867e0509",
   "metadata": {},
   "outputs": [],
   "source": []
  }
 ],
 "metadata": {
  "kernelspec": {
   "display_name": "Python 3",
   "language": "python",
   "name": "python3"
  },
  "language_info": {
   "codemirror_mode": {
    "name": "ipython",
    "version": 3
   },
   "file_extension": ".py",
   "mimetype": "text/x-python",
   "name": "python",
   "nbconvert_exporter": "python",
   "pygments_lexer": "ipython3",
   "version": "3.8.8"
  }
 },
 "nbformat": 4,
 "nbformat_minor": 5
}
